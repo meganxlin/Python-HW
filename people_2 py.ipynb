{
 "cells": [
  {
   "cell_type": "code",
   "execution_count": 4,
   "metadata": {},
   "outputs": [],
   "source": [
    "#upper case\n",
    "with open('people_2.txt','r') as input:\n",
    "    y=input.read().upper()\n",
    "\n",
    "with open('people_1.txt','w') as out:\n",
    "    out.write(y)"
   ]
  },
  {
   "cell_type": "code",
   "execution_count": 5,
   "metadata": {},
   "outputs": [],
   "source": [
    "#delete spaces\n",
    "with open('people_2.txt','r') as f:\n",
    "    lines=f.readlines()\n",
    "\n",
    "lines = [line.replace(' ','') for line in lines]\n",
    "\n",
    "with open('people_2.txt','w') as f:\n",
    "    f.writelines(lines)"
   ]
  },
  {
   "cell_type": "code",
   "execution_count": 6,
   "metadata": {},
   "outputs": [],
   "source": [
    "#delete dupes\n",
    "lines = open('people_2.txt','r').readlines()\n",
    "lines_set = set(lines)\n",
    "out = open('people_2.txt','w')\n",
    "\n",
    "for line in lines_set:\n",
    "    out.write(line)"
   ]
  }
 ],
 "metadata": {
  "kernelspec": {
   "display_name": "Python 3.10.6 64-bit",
   "language": "python",
   "name": "python3"
  },
  "language_info": {
   "codemirror_mode": {
    "name": "ipython",
    "version": 3
   },
   "file_extension": ".py",
   "mimetype": "text/x-python",
   "name": "python",
   "nbconvert_exporter": "python",
   "pygments_lexer": "ipython3",
   "version": "3.10.6"
  },
  "orig_nbformat": 4,
  "vscode": {
   "interpreter": {
    "hash": "991b4f12e3cd7e62d84ec965b56412c4354ac1fe6297d96f50a80e713193dd77"
   }
  }
 },
 "nbformat": 4,
 "nbformat_minor": 2
}
